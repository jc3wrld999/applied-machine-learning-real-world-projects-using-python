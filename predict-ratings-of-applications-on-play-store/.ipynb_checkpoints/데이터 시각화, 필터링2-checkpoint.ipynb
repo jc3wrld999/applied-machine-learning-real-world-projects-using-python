{
 "cells": [
  {
   "cell_type": "code",
   "execution_count": null,
   "id": "9facde32",
   "metadata": {},
   "outputs": [],
   "source": []
  },
  {
   "cell_type": "code",
   "execution_count": 5,
   "id": "2e931c70",
   "metadata": {},
   "outputs": [],
   "source": [
    "import pandas as pd\n",
    "import numpy as np\n",
    "from sklearn.feature_selection import SelectKBest, f_regression"
   ]
  },
  {
   "cell_type": "code",
   "execution_count": 3,
   "id": "d53a9d43",
   "metadata": {},
   "outputs": [
    {
     "name": "stdout",
     "output_type": "stream",
     "text": [
      "(9360, 4)\n",
      "(9360,)\n"
     ]
    }
   ],
   "source": [
    "df = pd.read_csv('googleplaystore_filtered.csv', thousands = ',')\n",
    "\n",
    "ind_features = ['Reviews', 'Size', 'Installs', 'Price']\n",
    "X = df[ind_features]\n",
    "y = df['Rating']\n",
    "print(X.shape)\n",
    "print(y.shape)"
   ]
  },
  {
   "cell_type": "code",
   "execution_count": null,
   "id": "a413a02e",
   "metadata": {},
   "outputs": [],
   "source": [
    "X_new = SelectKBest(f_regression, k=3).fit_transform(X, y)\n"
   ]
  }
 ],
 "metadata": {
  "kernelspec": {
   "display_name": "Python 3 (ipykernel)",
   "language": "python",
   "name": "python3"
  },
  "language_info": {
   "codemirror_mode": {
    "name": "ipython",
    "version": 3
   },
   "file_extension": ".py",
   "mimetype": "text/x-python",
   "name": "python",
   "nbconvert_exporter": "python",
   "pygments_lexer": "ipython3",
   "version": "3.9.5"
  }
 },
 "nbformat": 4,
 "nbformat_minor": 5
}
